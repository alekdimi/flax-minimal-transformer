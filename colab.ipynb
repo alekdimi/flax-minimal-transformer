{
    "cells": [
        {
            "cell_type": "code",
            "execution_count": 7,
            "metadata": {},
            "outputs": [
                {
                    "name": "stdout",
                    "output_type": "stream",
                    "text": [
                        "The autoreload extension is already loaded. To reload it, use:\n",
                        "  %reload_ext autoreload\n"
                    ]
                }
            ],
            "source": [
                "%load_ext autoreload\n",
                "%autoreload 2\n",
                "\n",
                "import jax\n",
                "import jax.numpy as jnp\n",
                "import optax\n",
                "import matplotlib.pyplot as plt\n",
                "\n",
                "import configs\n",
                "import optimizers\n",
                "import tokenizers"
            ]
        },
        {
            "cell_type": "code",
            "execution_count": 13,
            "metadata": {},
            "outputs": [],
            "source": [
                "training_config = configs.TrainingConfig(\n",
                "    optimizer_config=optimizers.OptimizerConfig(\n",
                "        optimizer=optimizers.Optimizer.ADAM, learning_rate=1e-1\n",
                "    ),\n",
                "    num_train_steps=100,\n",
                ")\n",
                "tokenizer_config = tokenizers.TokenizerConfig(model=\"gpt2\")\n",
                "model_config = configs.TransformerConfig(\n",
                "    vocab_size=128, d_model=32, sequence_length=512, num_blocks=2, num_heads=4, ffw_multiplier=4\n",
                ")\n",
                "\n",
                "tokenizer = tokenizer_config.make()\n",
                "model = model_config.make()"
            ]
        },
        {
            "cell_type": "code",
            "execution_count": 20,
            "metadata": {},
            "outputs": [
                {
                    "name": "stdout",
                    "output_type": "stream",
                    "text": [
                        "228 [43, 29625, 220, 2419, 388, 288, 45621, 1650, 716, 316]\n"
                    ]
                }
            ],
            "source": [
                "text = (\n",
                "    \"Lorem ipsum dolor sit amet. Et consectetur fuga id eius ducimus non quam corrupti \"\n",
                "    \"aut temporibus animi qui odit odit est voluptas voluptatem vel doloribus nemo. \"\n",
                "    \"Qui iste neque est iusto omnis hic soluta rerum est adipisci dolores? \"\n",
                "    \"Ut veritatis sequi sed dolore dolorum quo doloremque dignissimos aut laborum voluptates. \"\n",
                "    \"Qui tempore asperiores et voluptas dignissimos non doloribus impedit ut expedita \"\n",
                "    \"reprehenderit quo amet temporibus. Qui nisi odio ut necessitatibus maxime ea molestiae \"\n",
                "    \"optio ut reiciendis quis? Et veniam beatae ut omnis fuga aut veritatis quod rem quidem \"\n",
                "    \"distinctio et dolorem aliquam rem sint sunt vel nihil dolores. Sed sunt autem aut sunt \"\n",
                "    \"rerum rem eaque quas.\"\n",
                ")\n",
                "\n",
                "tokens = tokenizer.encode(text)\n",
                "assert tokenizer.decode(tokens) == text\n",
                "print(len(tokens), tokens[:10])"
            ]
        },
        {
            "cell_type": "code",
            "execution_count": 21,
            "metadata": {},
            "outputs": [
                {
                    "data": {
                        "text/plain": [
                            "(1, 228)"
                        ]
                    },
                    "execution_count": 21,
                    "metadata": {},
                    "output_type": "execute_result"
                }
            ],
            "source": [
                "x = jnp.array(tokens).reshape(1, -1)\n",
                "x.shape\n"
            ]
        },
        {
            "cell_type": "code",
            "execution_count": null,
            "metadata": {},
            "outputs": [],
            "source": []
        }
    ],
    "metadata": {
        "kernelspec": {
            "display_name": "jax",
            "language": "python",
            "name": "python3"
        },
        "language_info": {
            "codemirror_mode": {
                "name": "ipython",
                "version": 3
            },
            "file_extension": ".py",
            "mimetype": "text/x-python",
            "name": "python",
            "nbconvert_exporter": "python",
            "pygments_lexer": "ipython3",
            "version": "3.12.4"
        }
    },
    "nbformat": 4,
    "nbformat_minor": 2
}
