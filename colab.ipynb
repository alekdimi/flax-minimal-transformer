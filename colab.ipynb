{
    "cells": [
        {
            "cell_type": "code",
            "execution_count": 36,
            "metadata": {},
            "outputs": [
                {
                    "name": "stdout",
                    "output_type": "stream",
                    "text": [
                        "The autoreload extension is already loaded. To reload it, use:\n",
                        "  %reload_ext autoreload\n"
                    ]
                }
            ],
            "source": [
                "%load_ext autoreload\n",
                "%autoreload 2\n",
                "\n",
                "import jax\n",
                "import jax.numpy as jnp\n",
                "import optax\n",
                "\n",
                "import configs\n",
                "import optimizers\n",
                "import tokenizers"
            ]
        },
        {
            "cell_type": "code",
            "execution_count": 45,
            "metadata": {},
            "outputs": [],
            "source": [
                "training_config = configs.TrainingConfig(\n",
                "    optimizer_config=optimizers.OptimizerConfig(\n",
                "        optimizer=optimizers.Optimizer.ADAM, learning_rate=1e-1\n",
                "    ),\n",
                "    num_train_steps=10,\n",
                ")\n",
                "tokenizer_config = tokenizers.TokenizerConfig(model=\"gpt2\")\n",
                "model_config = configs.TransformerConfig(\n",
                "    vocab_size=128, d_model=32, sequence_length=512, num_blocks=2, num_heads=4, ffw_multiplier=4\n",
                ")"
            ]
        },
        {
            "cell_type": "code",
            "execution_count": 46,
            "metadata": {},
            "outputs": [
                {
                    "name": "stdout",
                    "output_type": "stream",
                    "text": [
                        "228 [43, 29625, 220, 2419, 388, 288, 45621, 1650, 716, 316]\n"
                    ]
                },
                {
                    "data": {
                        "text/plain": [
                            "(1, 512)"
                        ]
                    },
                    "execution_count": 46,
                    "metadata": {},
                    "output_type": "execute_result"
                }
            ],
            "source": [
                "text = (\n",
                "    \"Lorem ipsum dolor sit amet. Et consectetur fuga id eius ducimus non quam corrupti \"\n",
                "    \"aut temporibus animi qui odit odit est voluptas voluptatem vel doloribus nemo. \"\n",
                "    \"Qui iste neque est iusto omnis hic soluta rerum est adipisci dolores? \"\n",
                "    \"Ut veritatis sequi sed dolore dolorum quo doloremque dignissimos aut laborum voluptates. \"\n",
                "    \"Qui tempore asperiores et voluptas dignissimos non doloribus impedit ut expedita \"\n",
                "    \"reprehenderit quo amet temporibus. Qui nisi odio ut necessitatibus maxime ea molestiae \"\n",
                "    \"optio ut reiciendis quis? Et veniam beatae ut omnis fuga aut veritatis quod rem quidem \"\n",
                "    \"distinctio et dolorem aliquam rem sint sunt vel nihil dolores. Sed sunt autem aut sunt \"\n",
                "    \"rerum rem eaque quas.\"\n",
                ")\n",
                "tokenizer = tokenizer_config.make()\n",
                "tokens = tokenizer.encode(text)\n",
                "assert tokenizer.decode(tokens) == text\n",
                "print(len(tokens), tokens[:10])\n",
                "tokens += [0] * (model_config.sequence_length - len(tokens))\n",
                "x = jnp.array(tokens).reshape(1, -1)\n",
                "x.shape"
            ]
        },
        {
            "cell_type": "code",
            "execution_count": 52,
            "metadata": {},
            "outputs": [
                {
                    "name": "stdout",
                    "output_type": "stream",
                    "text": [
                        "{'params': {'blocks_0': {'attn': {'key': {'bias': (4, 8), 'kernel': (32, 4, 8)}, 'out': {'bias': (32,), 'kernel': (4, 8, 32)}, 'query': {'bias': (4, 8), 'kernel': (32, 4, 8)}, 'value': {'bias': (4, 8), 'kernel': (32, 4, 8)}}, 'ffw': {'layer1': {'kernel': (32, 128)}, 'layer2': {'kernel': (128, 32)}}, 'norm1': {'bias': (32,), 'scale': (32,)}, 'norm2': {'bias': (32,), 'scale': (32,)}}, 'blocks_1': {'attn': {'key': {'bias': (4, 8), 'kernel': (32, 4, 8)}, 'out': {'bias': (32,), 'kernel': (4, 8, 32)}, 'query': {'bias': (4, 8), 'kernel': (32, 4, 8)}, 'value': {'bias': (4, 8), 'kernel': (32, 4, 8)}}, 'ffw': {'layer1': {'kernel': (32, 128)}, 'layer2': {'kernel': (128, 32)}}, 'norm1': {'bias': (32,), 'scale': (32,)}, 'norm2': {'bias': (32,), 'scale': (32,)}}, 'position_embedder': {'embedding': (512, 32)}, 'token_embedder': {'embedding': (128, 32)}}}\n"
                    ]
                }
            ],
            "source": [
                "key = jax.random.PRNGKey(0)\n",
                "model = model_config.make()\n",
                "fake_values = jax.random.randint(\n",
                "    key,\n",
                "    shape=(1, model_config.sequence_length),\n",
                "    minval=0,\n",
                "    maxval=model_config.vocab_size,\n",
                ")\n",
                "params = model.init(key, fake_values)\n",
                "print(jax.tree_util.tree_map(jnp.shape, params))"
            ]
        },
        {
            "cell_type": "code",
            "execution_count": 57,
            "metadata": {},
            "outputs": [
                {
                    "data": {
                        "text/plain": [
                            "Array([[[nan, nan, nan, ..., nan, nan, nan],\n",
                            "        [nan, nan, nan, ..., nan, nan, nan],\n",
                            "        [nan, nan, nan, ..., nan, nan, nan],\n",
                            "        ...,\n",
                            "        [nan, nan, nan, ..., nan, nan, nan],\n",
                            "        [nan, nan, nan, ..., nan, nan, nan],\n",
                            "        [nan, nan, nan, ..., nan, nan, nan]]], dtype=float32)"
                        ]
                    },
                    "execution_count": 57,
                    "metadata": {},
                    "output_type": "execute_result"
                }
            ],
            "source": [
                "model.apply(params, x)"
            ]
        },
        {
            "cell_type": "code",
            "execution_count": 55,
            "metadata": {},
            "outputs": [
                {
                    "name": "stdout",
                    "output_type": "stream",
                    "text": [
                        "Step 0: loss = nan\n",
                        "Step 1: loss = nan\n",
                        "Step 2: loss = nan\n",
                        "Step 3: loss = nan\n",
                        "Step 4: loss = nan\n",
                        "Step 5: loss = nan\n",
                        "Step 6: loss = nan\n",
                        "Step 7: loss = nan\n",
                        "Step 8: loss = nan\n",
                        "Step 9: loss = nan\n"
                    ]
                }
            ],
            "source": [
                "optimizer = training_config.optimizer_config.make()\n",
                "opt_state = optimizer.init(params)\n",
                "\n",
                "def loss_fn(params, x): \n",
                "    # This does not offset the tokens for next token prediction!\n",
                "    return jnp.mean(optax.softmax_cross_entropy_with_integer_labels(model.apply(params, x), x))\n",
                "grad_fn = jax.value_and_grad(loss_fn)\n",
                "\n",
                "for idx in range(training_config.num_train_steps):\n",
                "    loss, gradients = grad_fn(params, x)\n",
                "    print(f\"Step {idx}: loss = {loss}\")\n",
                "    updates, opt_state = optimizer.update(gradients, opt_state)\n",
                "    params = optax.apply_updates(params, updates)"
            ]
        },
        {
            "cell_type": "code",
            "execution_count": null,
            "metadata": {},
            "outputs": [],
            "source": []
        }
    ],
    "metadata": {
        "kernelspec": {
            "display_name": "jax",
            "language": "python",
            "name": "python3"
        },
        "language_info": {
            "codemirror_mode": {
                "name": "ipython",
                "version": 3
            },
            "file_extension": ".py",
            "mimetype": "text/x-python",
            "name": "python",
            "nbconvert_exporter": "python",
            "pygments_lexer": "ipython3",
            "version": "3.12.4"
        }
    },
    "nbformat": 4,
    "nbformat_minor": 2
}
