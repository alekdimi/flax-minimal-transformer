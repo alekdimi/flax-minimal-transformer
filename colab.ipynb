{
 "cells": [
  {
   "cell_type": "code",
   "execution_count": 30,
   "metadata": {},
   "outputs": [
    {
     "name": "stdout",
     "output_type": "stream",
     "text": [
      "The autoreload extension is already loaded. To reload it, use:\n",
      "  %reload_ext autoreload\n"
     ]
    }
   ],
   "source": [
    "%load_ext autoreload\n",
    "%autoreload 2\n",
    "\n",
    "import jax\n",
    "import jax.numpy as jnp\n",
    "import optax\n",
    "import matplotlib.pyplot as plt\n",
    "\n",
    "import configs\n",
    "import models\n",
    "import optimizers\n",
    "import tokenizers\n"
   ]
  },
  {
   "cell_type": "code",
   "execution_count": 31,
   "metadata": {},
   "outputs": [],
   "source": [
    "n, d = 100, 1\n",
    "key = jax.random.PRNGKey(0)\n",
    "key1, key2 = jax.random.split(key)\n",
    "\n",
    "x = jax.random.normal(key1, (n, d))\n",
    "xs = jnp.arange(jnp.min(x), jnp.max(x), 0.1).reshape(-1, 1)\n",
    "# y = 4 * x + jax.random.normal(key2, (n, d)) + 2\n",
    "y = 0.5 * x + 3 * jnp.sin(x) + jax.random.normal(key2, (n, d)) * 0.25 + 2"
   ]
  },
  {
   "cell_type": "code",
   "execution_count": 32,
   "metadata": {},
   "outputs": [
    {
     "name": "stdout",
     "output_type": "stream",
     "text": [
      "{'params': {'layer1': {'bias': (50,), 'kernel': (1, 50)}, 'layer2': {'bias': (1,), 'kernel': (50, 1)}}}\n",
      "Step 0: loss = 15.023066520690918\n",
      "Step 1: loss = 4.803783416748047\n",
      "Step 2: loss = 1.9609829187393188\n",
      "Step 3: loss = 3.555063486099243\n",
      "Step 4: loss = 3.962653636932373\n",
      "Step 5: loss = 2.3402976989746094\n",
      "Step 6: loss = 1.065663456916809\n",
      "Step 7: loss = 0.9972795844078064\n",
      "Step 8: loss = 1.559546947479248\n",
      "Step 9: loss = 1.8799314498901367\n",
      "Step 10: loss = 1.7334131002426147\n",
      "Step 11: loss = 1.3194957971572876\n",
      "Step 12: loss = 0.8987675309181213\n",
      "Step 13: loss = 0.6436710953712463\n",
      "Step 14: loss = 0.5900903940200806\n",
      "Step 15: loss = 0.6510002017021179\n",
      "Step 16: loss = 0.7174381613731384\n",
      "Step 17: loss = 0.737446129322052\n",
      "Step 18: loss = 0.6942760944366455\n",
      "Step 19: loss = 0.6003769636154175\n",
      "Step 20: loss = 0.5023117065429688\n",
      "Step 21: loss = 0.43747711181640625\n",
      "Step 22: loss = 0.4074101150035858\n",
      "Step 23: loss = 0.39254119992256165\n",
      "Step 24: loss = 0.3783632516860962\n",
      "Step 25: loss = 0.3634534776210785\n",
      "Step 26: loss = 0.34759825468063354\n",
      "Step 27: loss = 0.3207992911338806\n",
      "Step 28: loss = 0.2706100046634674\n",
      "Step 29: loss = 0.201779305934906\n",
      "Step 30: loss = 0.14330840110778809\n",
      "Step 31: loss = 0.12707291543483734\n",
      "Step 32: loss = 0.15286871790885925\n",
      "Step 33: loss = 0.17953021824359894\n",
      "Step 34: loss = 0.16885338723659515\n",
      "Step 35: loss = 0.13342393934726715\n",
      "Step 36: loss = 0.11239904910326004\n",
      "Step 37: loss = 0.11474055796861649\n",
      "Step 38: loss = 0.1182919442653656\n",
      "Step 39: loss = 0.11398813128471375\n",
      "Step 40: loss = 0.11353292316198349\n",
      "Step 41: loss = 0.11589048057794571\n",
      "Step 42: loss = 0.10781490802764893\n",
      "Step 43: loss = 0.09458831697702408\n",
      "Step 44: loss = 0.0925683006644249\n",
      "Step 45: loss = 0.10246297717094421\n",
      "Step 46: loss = 0.11051971465349197\n",
      "Step 47: loss = 0.10927654057741165\n",
      "Step 48: loss = 0.10317613184452057\n",
      "Step 49: loss = 0.09773322939872742\n",
      "Step 50: loss = 0.09290093928575516\n",
      "Step 51: loss = 0.08865892142057419\n",
      "Step 52: loss = 0.08878480643033981\n",
      "Step 53: loss = 0.09317293018102646\n",
      "Step 54: loss = 0.09507276117801666\n",
      "Step 55: loss = 0.09136773645877838\n",
      "Step 56: loss = 0.08681771904230118\n",
      "Step 57: loss = 0.08511961996555328\n",
      "Step 58: loss = 0.08460240811109543\n",
      "Step 59: loss = 0.08382982015609741\n",
      "Step 60: loss = 0.08360569924116135\n",
      "Step 61: loss = 0.08349870145320892\n",
      "Step 62: loss = 0.08203265815973282\n",
      "Step 63: loss = 0.07993970811367035\n",
      "Step 64: loss = 0.07941490411758423\n",
      "Step 65: loss = 0.080515556037426\n",
      "Step 66: loss = 0.08119788020849228\n",
      "Step 67: loss = 0.08059360086917877\n",
      "Step 68: loss = 0.07960195094347\n",
      "Step 69: loss = 0.07876921445131302\n",
      "Step 70: loss = 0.07800613343715668\n",
      "Step 71: loss = 0.07771699875593185\n",
      "Step 72: loss = 0.07820013165473938\n",
      "Step 73: loss = 0.07863743603229523\n",
      "Step 74: loss = 0.07819889485836029\n",
      "Step 75: loss = 0.07733775675296783\n",
      "Step 76: loss = 0.07686540484428406\n",
      "Step 77: loss = 0.07672698050737381\n",
      "Step 78: loss = 0.07654613256454468\n",
      "Step 79: loss = 0.07634099572896957\n",
      "Step 80: loss = 0.07611136138439178\n",
      "Step 81: loss = 0.07568295300006866\n",
      "Step 82: loss = 0.0752238929271698\n",
      "Step 83: loss = 0.07506947964429855\n",
      "Step 84: loss = 0.07508553564548492\n",
      "Step 85: loss = 0.07489905506372452\n",
      "Step 86: loss = 0.07451563328504562\n",
      "Step 87: loss = 0.07417657226324081\n",
      "Step 88: loss = 0.0739344134926796\n",
      "Step 89: loss = 0.07375939935445786\n",
      "Step 90: loss = 0.07368446886539459\n",
      "Step 91: loss = 0.07361432909965515\n",
      "Step 92: loss = 0.07339730858802795\n",
      "Step 93: loss = 0.0731167271733284\n",
      "Step 94: loss = 0.07294037938117981\n",
      "Step 95: loss = 0.07283324748277664\n",
      "Step 96: loss = 0.07269600033760071\n",
      "Step 97: loss = 0.07253928482532501\n",
      "Step 98: loss = 0.07237731665372849\n",
      "Step 99: loss = 0.07219941914081573\n"
     ]
    },
    {
     "data": {
      "text/plain": [
       "[<matplotlib.lines.Line2D at 0x16a11d2e0>]"
      ]
     },
     "execution_count": 32,
     "metadata": {},
     "output_type": "execute_result"
    },
    {
     "data": {
      "image/png": "[encoded data removed]",
      "text/plain": [
       "<Figure size 640x480 with 1 Axes>"
      ]
     },
     "metadata": {},
     "output_type": "display_data"
    }
   ],
   "source": [
    "config = configs.TrainingConfig(\n",
    "    optimizer=optimizers.OptimizerConfig(\n",
    "        optimizer=optimizers.Optimizer.ADAM, learning_rate=1e-1\n",
    "    ),\n",
    "    num_train_steps=100,\n",
    ")\n",
    "\n",
    "# model = models.Linear(features=1, use_bias=True)\n",
    "model = models.MLP(num_hidden=50, num_outputs=d, use_bias=True)\n",
    "\n",
    "params = model.init(key, jnp.ones((1, d)))\n",
    "print(jax.tree_util.tree_map(jnp.shape, params))\n",
    "\n",
    "optimizer = config.optimizer.make()\n",
    "opt_state = optimizer.init(params)\n",
    "\n",
    "squared_error = lambda y, predictions: jnp.mean(jnp.square(y - predictions))\n",
    "squared_error_vmap = jax.vmap(squared_error, in_axes=(0, 0), out_axes=0)\n",
    "loss_fn = lambda params, x, y: jnp.mean(squared_error_vmap(y, model.apply(params, x)))\n",
    "grad_fn = jax.value_and_grad(loss_fn)\n",
    "\n",
    "\n",
    "for idx in range(config.num_train_steps):\n",
    "    loss, gradients = grad_fn(params, x, y)\n",
    "    print(f\"Step {idx}: loss = {loss}\")\n",
    "    # params = jax.tree_util.tree_map(lambda p, g: p - lr * g, params, gradients)\n",
    "    updates, opt_state = optimizer.update(gradients, opt_state)\n",
    "    params = optax.apply_updates(params, updates)\n",
    "\n",
    "plt.plot(x, y, \"o\")\n",
    "plt.plot(\n",
    "    xs,\n",
    "    model.apply(params, xs).reshape(-1),\n",
    "    \"r\",\n",
    "    alpha=0.25 + idx / config.num_train_steps / 2,\n",
    ")"
   ]
  },
  {
   "cell_type": "code",
   "execution_count": 29,
   "metadata": {},
   "outputs": [
    {
     "name": "stdout",
     "output_type": "stream",
     "text": [
      "[15496, 11, 995, 0]\n"
     ]
    }
   ],
   "source": [
    "tokenizer = tokenizers.TokenizerConfig(model=\"gpt2\").make()\n",
    "print(tokenizer.encode(\"Hello, world!\"))"
   ]
  },
  {
   "cell_type": "code",
   "execution_count": null,
   "metadata": {},
   "outputs": [],
   "source": []
  }
 ],
 "metadata": {
  "kernelspec": {
   "display_name": "jax",
   "language": "python",
   "name": "python3"
  },
  "language_info": {
   "codemirror_mode": {
    "name": "ipython",
    "version": 3
   },
   "file_extension": ".py",
   "mimetype": "text/x-python",
   "name": "python",
   "nbconvert_exporter": "python",
   "pygments_lexer": "ipython3",
   "version": "3.12.4"
  }
 },
 "nbformat": 4,
 "nbformat_minor": 2
}
